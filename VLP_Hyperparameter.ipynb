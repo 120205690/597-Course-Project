{
  "nbformat": 4,
  "nbformat_minor": 0,
  "metadata": {
    "colab": {
      "provenance": []
    },
    "kernelspec": {
      "name": "python3",
      "display_name": "Python 3"
    },
    "language_info": {
      "name": "python"
    }
  },
  "cells": [
    {
      "cell_type": "code",
      "execution_count": null,
      "metadata": {
        "id": "yrpui29iLLhI"
      },
      "outputs": [],
      "source": [
        "!git clone --recursive https://github.com/LuoweiZhou/VLP.git\n"
      ]
    },
    {
      "cell_type": "code",
      "source": [
        "from google.colab import drive\n",
        "drive.mount('/content/drive')"
      ],
      "metadata": {
        "id": "gjgkba6aLQdQ"
      },
      "execution_count": null,
      "outputs": []
    },
    {
      "cell_type": "code",
      "source": [
        "cp -r /content/drive/MyDrive/VLP/checkpoint_cc /content/VLP"
      ],
      "metadata": {
        "id": "uAYkqyv7LTGz"
      },
      "execution_count": null,
      "outputs": []
    },
    {
      "cell_type": "code",
      "source": [
        "cp -r /content/drive/MyDrive/VLP/flickr30k_g8_lr3e-5_batch512_ft_from_s0.75_b0.25 /content/VLP"
      ],
      "metadata": {
        "id": "ZibzrCPMMniD"
      },
      "execution_count": null,
      "outputs": []
    },
    {
      "cell_type": "code",
      "source": [
        "cp -r /content/VLP/vlp/. /content/VLP"
      ],
      "metadata": {
        "id": "eKesSyqQQFj9"
      },
      "execution_count": null,
      "outputs": []
    },
    {
      "cell_type": "code",
      "source": [
        "!sh /content/VLP/setup.sh\n"
      ],
      "metadata": {
        "id": "mDfigjjYLW1c"
      },
      "execution_count": null,
      "outputs": []
    },
    {
      "cell_type": "code",
      "source": [
        "%pwd"
      ],
      "metadata": {
        "colab": {
          "base_uri": "https://localhost:8080/",
          "height": 36
        },
        "id": "MVwBlRQZLSaY",
        "outputId": "26636fdd-1450-4827-dc46-cb41bf50ff76"
      },
      "execution_count": null,
      "outputs": [
        {
          "output_type": "execute_result",
          "data": {
            "text/plain": [
              "'/content'"
            ],
            "application/vnd.google.colaboratory.intrinsic+json": {
              "type": "string"
            }
          },
          "metadata": {},
          "execution_count": 6
        }
      ]
    },
    {
      "cell_type": "code",
      "source": [
        "%cd /content/VLP\n",
        "%pwd"
      ],
      "metadata": {
        "colab": {
          "base_uri": "https://localhost:8080/",
          "height": 53
        },
        "id": "Z1f231yqNdmE",
        "outputId": "60f6e3b0-0880-47d0-f59b-d274cbbb1a99"
      },
      "execution_count": null,
      "outputs": [
        {
          "output_type": "stream",
          "name": "stdout",
          "text": [
            "/content/VLP\n"
          ]
        },
        {
          "output_type": "execute_result",
          "data": {
            "text/plain": [
              "'/content/VLP'"
            ],
            "application/vnd.google.colaboratory.intrinsic+json": {
              "type": "string"
            }
          },
          "metadata": {},
          "execution_count": 2
        }
      ]
    },
    {
      "cell_type": "code",
      "source": [
        "cd .."
      ],
      "metadata": {
        "colab": {
          "base_uri": "https://localhost:8080/"
        },
        "id": "6E5G1x0bO_ZY",
        "outputId": "42b8ca52-879a-4ac1-ae4e-0c627634d49f"
      },
      "execution_count": null,
      "outputs": [
        {
          "output_type": "stream",
          "name": "stdout",
          "text": [
            "/content\n"
          ]
        }
      ]
    },
    {
      "cell_type": "code",
      "source": [
        "import sys\n",
        "sys.path.append('/content/VLP/pytorch_pretrained_bert')\n"
      ],
      "metadata": {
        "id": "Z1gJihoSOMPt"
      },
      "execution_count": null,
      "outputs": []
    },
    {
      "cell_type": "code",
      "source": [
        "sys.path"
      ],
      "metadata": {
        "id": "xbRvKhltPduZ"
      },
      "execution_count": null,
      "outputs": []
    },
    {
      "cell_type": "code",
      "source": [
        "%pip install boto3"
      ],
      "metadata": {
        "id": "U37NVeu8Qlte"
      },
      "execution_count": null,
      "outputs": []
    },
    {
      "cell_type": "code",
      "source": [
        "try:\n",
        "  import apex\n",
        "except Exception:\n",
        "  !git clone https://github.com/NVIDIA/apex.git\n",
        "  %cd apex\n",
        "  !pip install --no-cache-dir --global-option=\"--cpp_ext\" --global-option=\"--cuda_ext\" .\n",
        "  %cd .."
      ],
      "metadata": {
        "id": "MIdIlSRJTMpg"
      },
      "execution_count": null,
      "outputs": []
    },
    {
      "cell_type": "code",
      "source": [
        "import apex"
      ],
      "metadata": {
        "id": "Sbkz-_JIVTiF"
      },
      "execution_count": null,
      "outputs": []
    },
    {
      "cell_type": "code",
      "source": [
        "python vlp/run_img2txt_dist.py --model_recover_path /checkpoint_cc/model.30.bin --num_train_epochs 10 --train_batch_size 32 --use_num_imgs 10000 --do_train --new_segment_ids --always_truncate_tail --amp --image_root /flickr30k/region_feat_gvd_wo_bgd --enable_butd --s2s_prob 1 --bi_prob 0 --dataset flickr30k --region_bbox_file flickr30k_detection_vg_thresh0.2_feat_gvd_checkpoint_trainvaltest.h5 --src_file /flickr30k/annotations/dataset_flickr30k.json --file_valid_jpgs /flickr30k/annotations/flickr30k_valid_jpgs.json --warmup_proportion 0.15 --learning_rate 35e-6"
      ],
      "metadata": {
        "id": "LpOO0PGjNhVA"
      },
      "execution_count": null,
      "outputs": []
    },
    {
      "cell_type": "code",
      "source": [
        "python vlp/decode_img2txt.py --model_recover_path /flickr30k_g8_lr3e-5_batch32_ft_from_s0.75_b0.25/ bestcheckpoint_hyperparam.bin --new_segment_ids --batch_size 100 --beam_size 5 --enable_butd --image_root /flickr30k/region_feat_gvd_wo_bgd/ --dataset flickr30k --region_bbox_file flickr30k_detection_vg_thresh0.2_feat_gvd_checkpoint_trainvaltest.h5 --src_file /flickr30k/annotations/dataset_flickr30k.json --file_valid_jpgs /flickr30k/annotations/flickr30k_valid_jpgs.json"
      ],
      "metadata": {
        "id": "OK25FMe8pqKl"
      },
      "execution_count": null,
      "outputs": []
    }
  ]
}